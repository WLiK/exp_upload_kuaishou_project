{
 "cells": [
  {
   "cell_type": "markdown",
   "metadata": {},
   "source": [
    "# 用户兴趣建模大赛 Readme\n",
    "\n",
    "\n",
    "\n",
    "--------------------------------\n",
    "xgb+ffm\n",
    "\n",
    "## 项目结构\n",
    "```\n",
    "getFeature.py   # 预处理相关特征\n",
    "xgb_ffm.py      # 生成经过xgb模型处理后的符合ffm格式的数据\n",
    "```\n",
    "\n",
    "## 运行环境\n",
    "运行此项目，需要先安装好anaconda，然后配置好word2vec, xgboost相关库\n",
    "同时需要安装v123版本的[libffm](https://github.com/guestwalk/libffm/releases)\n",
    "\n",
    "## 数据预处理\n",
    "运行getFeature.py，预先生成处理后的特征\n",
    "生成后会有text_feature_4.csv，visual_128_mean_5.csv, face_feature.csv三个文件\n",
    "\n",
    "## xgb+ffm 运行流程\n",
    "运行xgb_ffm, 运行成功后会有train.ffm,test.ffm,submit.ffm三个文件\n",
    "调用libffm库生成ffm模型，并用生成的模型对submit.ffm进行预测\n",
    "\n",
    "\n",
    "---------------------------------\n",
    "dnn\n",
    "## 项目结构\n",
    "```\n",
    "getface.py      # 预处理face特征\n",
    "text_dnn_32.py  # 深度学习模型\n",
    "```\n",
    "\n",
    "## 运行环境\n",
    "核心idea:对特征进行分类别，进行embedding后做attention,即优化后的dnn模型来预测ctr\n",
    "\n",
    "## 运行环境\n",
    "运行此项目，需要先安装好python3，tensorflow-gpu1.4.0,keras2.1.2\n",
    "\n",
    "\n",
    "## 数据预处理\n",
    "需要运行getFeature.py生成visual_32_mean_5.csv文件，生成photo_text_df_full_10.csv文件（text特征文件）\n",
    "\n",
    "## xgb+ffm 运行流程\n",
    "运行text_dnn_32.py文件，每运行一个epoch便会生成一个预测文件32epoch*.xt\n",
    "\n",
    "\n",
    "\n",
    "\n",
    "\n",
    "\n"
   ]
  },
  {
   "cell_type": "code",
   "execution_count": null,
   "metadata": {},
   "outputs": [],
   "source": []
  },
  {
   "cell_type": "code",
   "execution_count": null,
   "metadata": {},
   "outputs": [],
   "source": []
  }
 ],
 "metadata": {
  "kernelspec": {
   "display_name": "Python 3",
   "language": "python",
   "name": "python3"
  },
  "language_info": {
   "codemirror_mode": {
    "name": "ipython",
    "version": 3
   },
   "file_extension": ".py",
   "mimetype": "text/x-python",
   "name": "python",
   "nbconvert_exporter": "python",
   "pygments_lexer": "ipython3",
   "version": "3.6.2"
  }
 },
 "nbformat": 4,
 "nbformat_minor": 2
}
